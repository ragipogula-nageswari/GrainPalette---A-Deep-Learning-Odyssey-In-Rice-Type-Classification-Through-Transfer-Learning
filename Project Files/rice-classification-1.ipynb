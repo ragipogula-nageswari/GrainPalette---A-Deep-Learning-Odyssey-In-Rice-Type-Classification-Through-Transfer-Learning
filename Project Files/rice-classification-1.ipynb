{
 "cells": [
  {
   "cell_type": "code",
   "execution_count": null,
   "id": "26346564",
   "metadata": {
    "vscode": {
     "languageId": "plaintext"
    }
   },
   "outputs": [],
   "source": [
    "mport tensorflow as tf\n",
    "import tensorflow_hub as hub\n",
    "import warnings\n",
    "warnings.filterwarnings('ignore')\n",
    "import h5py\n",
    "import numpy as np\n",
    "import os\n",
    "from flask import Flask, app,request,render_template\n",
    "from tensorflow import keras\n",
    "import cv2\n",
    "import tensorflow_hub as hub\n",
    "\n",
    "app = Flask(__name__)\n",
    "\n",
    "@app.route('/')\n",
    "def home():\n",
    "    return render_template('index.html')\n",
    "@app.route('/details')\n",
    "def pred():\n",
    "    return render_template('details.html')\n",
    "@app.route('/result',methods= ['GET','POST'])\n",
    "def predict():\n",
    "    if request.method == \"POST\":\n",
    "        f=request.files['image']\n",
    "        basepath=os.path.dirname(__file__)\n",
    "        #print\n",
    "        filepath=os.path.join(basepath,'Data','val',f.filename) #\n",
    "        #print\n",
    "        f.save(filepath)\n",
    "\n",
    "        a2=cv2.imread(filepath)\n",
    "        a2=cv2.resize(a2,(224,224))\n",
    "        a2=np.array(2)\n",
    "        a2=a2/255\n",
    "        a2=np.expand_dims(a2,0)\n",
    "\n",
    "        pred=model.predict(a2)\n",
    "        pred=pred.argmax()\n",
    "\n",
    "        df_labels={\n",
    "            'arborio' :0,\n",
    "            'basmati' :1,\n",
    "            'ipsala' :2,\n",
    "            'jasmine' :3,\n",
    "            'karacadag' :4\n",
    "        }\n",
    "\n",
    "        for i,j in df_labels.items():\n",
    "            if pred ==j:\n",
    "                prediction =i\n",
    "        \n",
    "        return render_template('result.html', prediction_text=prediction)\n",
    "\n",
    "if __name__ ==\"__main__\":\n",
    "    app.run(debug=True)"
   ]
  }
 ],
 "metadata": {
  "language_info": {
   "name": "python"
  }
 },
 "nbformat": 4,
 "nbformat_minor": 5
}
